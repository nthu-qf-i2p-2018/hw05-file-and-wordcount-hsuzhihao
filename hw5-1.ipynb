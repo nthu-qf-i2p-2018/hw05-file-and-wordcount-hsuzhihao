{
 "cells": [
  {
   "cell_type": "code",
   "execution_count": null,
   "metadata": {},
   "outputs": [],
   "source": [
    "# -*- coding: utf-8 -*-\n",
    "import csv\n",
    "import json\n",
    "import pickle\n",
    "\n",
    "\n",
    "def main(filename):\n",
    "    # read file into lines\n",
    "    txtfile = open(filename)\n",
    "    lines = txtfile.readlines()\n",
    "\n",
    "    # declare a word list\n",
    "    all_words = []\n",
    "\n",
    "    # extract all words from lines\n",
    "    for line in lines:\n",
    "        # split a line of text into a list words\n",
    "        # \"I have a dream.\" => [\"I\", \"have\", \"a\", \"dream.\"]\n",
    "        words = line.split()\n",
    "\n",
    "        # check the format of words and append it to \"all_words\" list\n",
    "        for word in words:\n",
    "            # then, remove (strip) unwanted punctuations from every word\n",
    "            # \"dream.\" => \"dream\"\n",
    "            word = word.strip('!\"#$%&\\'()*+,-./:;<=>?@[\\\\]^_`{|}~')\n",
    "            \n",
    "            # check if word is not empty\n",
    "            if word != '' :\n",
    "                # append the word to \"all_words\" list\n",
    "                all_words.append(word)\n",
    "\n",
    "    # compute word count from all_words\n",
    "    from collections import Counter\n",
    "    counter = Counter(all_words)\n",
    "    counter = counter.most_common()\n",
    "\n",
    "    # dump to a csv file named \"wordcount.csv\":\n",
    "    # word,count\n",
    "    # a,12345\n",
    "    # I,23456\n",
    "    # ...\n",
    "    with open('wordcount.csv','w',newline='') as csvfile:\n",
    "        # create a csv writer from a file object (or descriptor)\n",
    "        writer = csv.writer(csvfile)\n",
    "        # write table head\n",
    "        writer.writerow(['word', 'count'])\n",
    "        # write all (word, count) pair into the csv writer\n",
    "        writer.writerows(counter)\n",
    "\n",
    "    # dump to a json file named \"wordcount.json\"\n",
    "    json.dump(counter, open(\"wordcount.json\", 'w'))\n",
    "\n",
    "    # BONUS: dump to a pickle file named \"wordcount.pkl\"\n",
    "    # hint: dump the Counter object directly\n",
    "\n",
    "    pickle.dump(counter,open(\"wordcount.pkl\",'wb'))\n",
    "    \n",
    "\n",
    "if __name__ == '__main__':\n",
    "    main(\"i_have_a_dream.txt\")"
   ]
  },
  {
   "cell_type": "code",
   "execution_count": null,
   "metadata": {},
   "outputs": [],
   "source": []
  },
  {
   "cell_type": "code",
   "execution_count": null,
   "metadata": {},
   "outputs": [],
   "source": []
  }
 ],
 "metadata": {
  "kernelspec": {
   "display_name": "",
   "name": ""
  },
  "language_info": {
   "name": ""
  }
 },
 "nbformat": 4,
 "nbformat_minor": 2
}
